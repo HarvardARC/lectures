{
 "metadata": {
  "name": ""
 },
 "nbformat": 3,
 "nbformat_minor": 0,
 "worksheets": [
  {
   "cells": [
    {
     "cell_type": "markdown",
     "metadata": {},
     "source": [
      "# pset1: This is not CS50\n",
      "\n",
      "## Introdution\n",
      "\n",
      "Programming is becoming increasingly more important in our age.  One of the results of this is that programming is becoming increasingly accessible.  The age of punch cards, or even the days of needing to know that computers run on binary, are long over.  Programming is now something available to the masses.  Knowing how to program is also an investment.  It is the digital embodiment of spending time upfront in order to avoid far greater time costs later.  Once you learn, you will never have to do a formulaic task on a computer more than once ever again.\n",
      "\n",
      "For those that have not yet touched [pset0](#) from ARC, please do, it is very important that you have the fundamentals down before we go further. \n",
      "\n",
      "Now why did I even mention, let alone title the pset here: cs50? Well, CS50 attempts to teach the best and the brightest of our age how to program.  It is reputed by many to be the hardest class they took at Harvard.  It teaches you to program in the language C, which is about as close as anyone, save an operating system designer, gets these days to telling the processor, memory, and hard disk explicitly what to do.  While this is in fact what most programming boils down to, this is only useful to those who will end up pursuing programming as a career.\n",
      "\n",
      "For the rest of the world, knowing how to program is about as useful as knowing how to drive a car (namely, very useful).  But there\u2019s no reason you need to know how to build a car in order to know how to drive it.  Equivalently, there is no reason you need to know C to be a programmer.  Hence, [ARC](http://www.hcs.harvard.edu/harvard-arc/) has re-written CS50 in Python, a language much better suited to learning how to program since it puts you a safe distance above the hardware while still giving you all the power you want.  This is no mere tutorial, but a course in its own right.  As far as courses go, it should be very short.  ARC intends to teach you nearly everything CS50 does in under a four hours.  After all, programming is all about saving time.\n",
      "\n",
      "##Python I/O\n",
      "\n",
      "So, now, welcome to [Python](http://www.python.org/).  Named after Monty Python, Python is a magnificent language in that it packs power into human readable code, at the same time as being widely used in industry.  Hence, it is ideal for many reasons as a first coding language.  Perhaps the hardest thing for experienced programmers about Python is dealing with just how much it does for you.  Many things you want to do in Python are already done.  For the sake of this course, you should ignore this fact, and try to write everything yourself.  However, in the real world, Google is your friend.  A search for \"Python [something]\" will probably reveal far more about how to do [something] in Python than you ever wanted to know, and you may spend more time reading about how to use functions that already do everything you want than actually writing code.  But before you can do that, you have to learn how to code. Please note that this tutorial is written in Python 2.7, and is not entirely forward compatible to 3.x.  Now lets get started. The lovely part about ipython, is that we can execute code right here \n"
     ]
    },
    {
     "cell_type": "code",
     "collapsed": false,
     "input": [
      "print(\"Hello world.\")"
     ],
     "language": "python",
     "metadata": {},
     "outputs": [],
     "prompt_number": 2
    },
    {
     "cell_type": "markdown",
     "metadata": {},
     "source": [
      "If we did not have this resource, what would we do? You have to save the code to a file to run it, save it as something like \"hello_world.py\". \n",
      "\n",
      "Now, if you have set up Python correctly, the program above should display the text \"Hello world.\"  Thrilling; I know.  For the less experienced, this may seem like a step down from Scratch.  Instead of beautiful objects and buttons, this is running and displaying in something that resembles the command prompts of the 20th century (of course, for those running on Linux, this should be no shock).  How is this more powerful?  It\u2019s simple: without the need to worry about a graphical user interface, you can devote all your attention to the program\u2019s functionality.  So, instead of spending hours doing pixel tweaks on your output boxes, you can spend those hours building beautiful, functional code.  And when you write code for yourself, it doesn\u2019t really matter how it looks; as long as you can read the output, it just needs to work to be useful.  But, you will still probably need to take input and output somehow.  So, I will give you the basics.\n",
      "\n",
      "You have already met print, but here it is explicitly: to print \"something\", use:"
     ]
    },
    {
     "cell_type": "code",
     "collapsed": false,
     "input": [
      "print(\"something\")"
     ],
     "language": "python",
     "metadata": {},
     "outputs": []
    },
    {
     "cell_type": "markdown",
     "metadata": {},
     "source": [
      "Here is a new one.  To prompt the user for input use: But wait!! don't run it. Unfortunately iPython cannot use this, but it should work if saved or typed into the terminal"
     ]
    },
    {
     "cell_type": "code",
     "collapsed": false,
     "input": [
      "# don't worry about this\n",
      "try:\n",
      "    # the input code\n",
      "    input(\"Type a number: \")\n",
      "# don't worry about thi just yet either\n",
      "except EOFError:\n",
      "    print\n",
      "    print \"bad user, follow instructions\""
     ],
     "language": "python",
     "metadata": {},
     "outputs": [],
     "prompt_number": 5
    },
    {
     "cell_type": "markdown",
     "metadata": {},
     "source": [
      "## Variables and Arithmetic:\n",
      "\n",
      "The input function is all well and good, until you want to actually do something with what was inputted (which you probably do).  Now it is time for the concept of a variable.  What is a variable?  Just about whatever you want.  It is a way of storing values.  You can name them almost whatever you want (just not reserved words, like \"if\" and \"return\"; more on these later) and store in them almost whatever you want (no physical objects though, like elephants).  Here is an example of a variable:\n"
     ]
    },
    {
     "cell_type": "code",
     "collapsed": false,
     "input": [
      "x = 5"
     ],
     "language": "python",
     "metadata": {},
     "outputs": [],
     "prompt_number": 4
    },
    {
     "cell_type": "markdown",
     "metadata": {},
     "source": [
      "The equals sign (\"=\") in this case denotes that the variable (x) is set to the value of 5.  If you want to reason about this gorgeous piece of code, it is best to think about it as \"x gets 5\", or \"x takes on the value 5\".  If you want to talk about equality in Python, you have to use two equals signs (\"==\"), but more on this later.  How do you use a variable?  Once you know about \"=\", it\u2019s pretty simple.  This should print \"5\":"
     ]
    },
    {
     "cell_type": "code",
     "collapsed": false,
     "input": [
      "print(x)"
     ],
     "language": "python",
     "metadata": {},
     "outputs": [],
     "prompt_number": 7
    },
    {
     "cell_type": "markdown",
     "metadata": {},
     "source": [
      "This should print 6:"
     ]
    },
    {
     "cell_type": "code",
     "collapsed": false,
     "input": [
      "x = x + 1\n",
      "print(x)"
     ],
     "language": "python",
     "metadata": {},
     "outputs": [],
     "prompt_number": 6
    },
    {
     "cell_type": "markdown",
     "metadata": {},
     "source": [
      "And now the power of programming is unleashed.  Python can do addition!  Similarly, it can do the other arithmetic operators.  This should print the values \"5\", \"6\", \"5\", \"10\", \"5\":"
     ]
    },
    {
     "cell_type": "code",
     "collapsed": false,
     "input": [
      "print(x)\n",
      "x = x + 1\n",
      "print(x)\n",
      "x = x - 1\n",
      "print(x)\n",
      "x = x * 2\n",
      "print(x)\n",
      "x = x / 2\n",
      "print(x)"
     ],
     "language": "python",
     "metadata": {},
     "outputs": [],
     "prompt_number": 9
    },
    {
     "cell_type": "markdown",
     "metadata": {},
     "source": [
      "This is also a bit of a clue into how variables work.  The variable \"x\" is actually keeping around a value between print statements.  Each arithmetic expression modifies this value, but the value only changes when you tell it to.  This is a key principle of programming.  The computer will only do exactly what you tell it (at least until the robot revolution).  If it\u2019s not doing what you expect, then you probably did something wrong (this is called a bug) or you don\u2019t understand what you did (which is also called a bug).\n",
      "\n",
      "Since you are very often using an arithmetic operator to modify the value of a variable, there is shorthand for this.  The following code is functionally identical to the previous piece:\n"
     ]
    },
    {
     "cell_type": "code",
     "collapsed": false,
     "input": [
      "x = 5\n",
      "print(x)\n",
      "x += 1\n",
      "print(x)\n",
      "x -= 1\n",
      "print(x)\n",
      "x *= 2\n",
      "print(x)\n",
      "x /= 2\n",
      "print(x)\n"
     ],
     "language": "python",
     "metadata": {},
     "outputs": [],
     "prompt_number": 7
    },
    {
     "cell_type": "markdown",
     "metadata": {},
     "source": [
      "The \"+=\" operator means \"add the following to the value of the variable, and similar with the others.  There is also one more arithmetic operator, the modulus (\"%\").  This is essentially returning the remainder of a division (and here is more than you ever wanted to know: [modulo](https://secure.wikimedia.org/wikipedia/en/wiki/Modulo_operation)).  The following code should print \"3\":\n"
     ]
    },
    {
     "cell_type": "code",
     "collapsed": false,
     "input": [
      "print(13 % 5)\n"
     ],
     "language": "python",
     "metadata": {},
     "outputs": [],
     "prompt_number": 8
    },
    {
     "cell_type": "markdown",
     "metadata": {},
     "source": [
      "But enough math; math is for computers.  Let\u2019s write code that does stuff. \n",
      "\n",
      "## If/Else\n",
      "\n",
      "So this has been great and all if you know exactly what is going to happen at all times.  But, then you would have won the lottery already and hired some software engineer to write all your code for you.  So, in all other cases, it is best to be able to deal with multiple courses of events.  You might even know what conditions you want to be able to react to!  Try this:\n",
      "\n"
     ]
    },
    {
     "cell_type": "code",
     "collapsed": false,
     "input": [
      "x = -3\n",
      "if x > 0:\n",
      "    print(\"Your number is positive\")\n",
      "else:\n",
      "    print(\"Your number is not positive\")\n"
     ],
     "language": "python",
     "metadata": {},
     "outputs": [],
     "prompt_number": 9
    },
    {
     "cell_type": "markdown",
     "metadata": {},
     "source": [
      "Zero is neither positive nor negative, hence the awkward wording of the output.  Also, the indentation is necessary (if you copy-pasted the code and python is complaining with some weird error, try indenting it yourself via the [Tab] key).  What does it do?  Well, the \"if\" checks for a condition.  Everything you want to have happen if the condition following the \"if\" is true must be in the indented block after the colon (\":\").  Furthermore, everything you want to have happen if the condition is not true must be in the indented block after the \"else:\".  I know; that was quite a pair of sentences.  Let me illustrate (along with a use of that double equals I mentioned earlier; \"==\" means equals to):\n"
     ]
    },
    {
     "cell_type": "code",
     "collapsed": false,
     "input": [
      "if 1 == 0:\n",
      "    print(\"1 is not equal to 0 (or, in Python, 1 != 0), so this will never get printed\")\n",
      "    print(\"Neither will this\")\n",
      "print(\"This will always get printed\")\n"
     ],
     "language": "python",
     "metadata": {},
     "outputs": []
    },
    {
     "cell_type": "markdown",
     "metadata": {},
     "source": [
      "If you think this is confusing, just remember, the computer isn\u2019t psychic.  This is Python, not Psychon (Psychic Python).  It will do exactly what you tell it.  It only knows what you want conditionally executed and what you want always executed based on what you indent.  Also, once you stop indenting, the magic of the indentation ends.  So don\u2019t try to stop indenting something and just randomly start again, or Python will complain at you, and even if it doesn\u2019t, your code probably won\u2019t do what you expect.\n",
      "\n",
      "But in case one indent isn\u2019t enough for you, let\u2019s take a look at what else you can do.  How about nested \"if\"s?\n"
     ]
    },
    {
     "cell_type": "code",
     "collapsed": false,
     "input": [
      "x = 0\n",
      "if x > 0:\n",
      "    print(\"Your number is positive\")\n",
      "else:\n",
      "    if x < 0:\n",
      "        print(\"Your number is negative\")\n",
      "    else:\n",
      "        print(\"Your number is zero!  Ahhh yeah!\")\n"
     ],
     "language": "python",
     "metadata": {},
     "outputs": [],
     "prompt_number": 15
    },
    {
     "cell_type": "markdown",
     "metadata": {},
     "source": [
      "In case you think double indentation is a pain, think again.  In most other languages, you have to use curly braces instead of indents, and it gets so confusing so fast, you pretty much have to indent your code properly (even though you aren\u2019t required to) just so you can read what you wrote.  So, Python is actually forcing you to use good code style by making that a syntactic requirement.  Think of it as a public service (anyone else who ever reads your code in another language will appreciate it if it\u2019s properly indented).  But, as in any language, if you nest too many things, you will run out of space and your code will be unreadable.  If this happens to you, stop and rewrite it (you probably just need some higher level of abstraction).  But this won\u2019t happen to you for a while yet.\n",
      "\n",
      "##Never Write the Same Thing Twice:\n",
      "\n",
      "So great: now you can handle conditions.  But where\u2019s the real power?  Programming is all about reducing duplication of effort.  If you\u2019re just using \"if\u2019/\"else\" statements, it\u2019ll probably take you a lot of work to do what you want.  What if you want to have a block of code run more than once?  Do you have to write the same code for every time you want it to run?  Heavens no.  This is especially important if you don\u2019t know ahead of time how many times you want it to run.  In any case, the relevant concept is the \"while\" loop:\n"
     ]
    },
    {
     "cell_type": "code",
     "collapsed": false,
     "input": [
      "x = 0\n",
      "while x < 10:\n",
      "    x += 1\n",
      "    print(x)\n"
     ],
     "language": "python",
     "metadata": {},
     "outputs": [],
     "prompt_number": 11
    },
    {
     "cell_type": "markdown",
     "metadata": {},
     "source": [
      "That should have printed the values from 1 to 10.  Not very exciting.  But how about the first ten positive square numbers?\n"
     ]
    },
    {
     "cell_type": "code",
     "collapsed": false,
     "input": [
      " x = 0\n",
      "while x < 10:\n",
      "\tx += 1\n",
      "\tprint(x * x)\n"
     ],
     "language": "python",
     "metadata": {},
     "outputs": []
    },
    {
     "cell_type": "markdown",
     "metadata": {},
     "source": [
      "Much more exciting.  Let\u2019s disentangle this.  What exactly is the \"while\" loop?  It executes the indented block of code for as long as the condition stated after the \"while\" is true (i.e., it executes it \"while\" the condition is true, hence the name).  It\u2019s a little more nuanced than that, though.  It only checks at the beginning of the loop, not constantly throughout.  So, the following loop will run forever:\n"
     ]
    },
    {
     "cell_type": "code",
     "collapsed": false,
     "input": [
      "x = 0\n",
      "while x <= 10:\n",
      "\tx = 30\n",
      "\tprint(x)\n",
      "\tx = 0\n"
     ],
     "language": "python",
     "metadata": {},
     "outputs": []
    },
    {
     "cell_type": "markdown",
     "metadata": {},
     "source": [
      "This is probably a good time to tell you that pressing the black square at the top is how to kill a running program (since, if you ran that code, it won\u2019t stop on its own).  Why does that code run forever?  x is clearly greater than 10 in the loop, and it\u2019s supposed to only loop while x is less than or equal to 10 (that\u2019s what the \"<=\" is; there is also a \">=\" for greater than or equals to, and \">\" for greater than).  But, whenever it reaches the beginning of the loop again, x has been set back to 0, which is less than 10, and so the loop will run again.  It will keep printing 30, because whenever it prints, x has the value 30, but it will also keep looping, because when it checks the loop, x is 0.  This illustrates another principle of programming.  The code you write will execute in the order you wrote it.  The only exception to this in Python are the indented blocks, which defy linear ordering slightly in that, depending on what precedes them, may be executed any number of times from zero to infinity.\n",
      "\n",
      "There is an even more important kind of loop, which is the \"for\" loop.  The \"for\" loop will execute its code once \"for each\" item in the collection passed to it:\n"
     ]
    },
    {
     "cell_type": "code",
     "collapsed": false,
     "input": [
      "for x in [1, 2, 3]:\n",
      "print(x)\n"
     ],
     "language": "python",
     "metadata": {},
     "outputs": []
    },
    {
     "cell_type": "markdown",
     "metadata": {},
     "source": [
      "That should have printed \"1\", \"2\", and \"3\", since, in each iteration of the loop, x took on a different one of the values.  Additionally, it takes on each of the values in the specified order.  So, this will print the numbers \"3\", \"1\", \"2\":\n"
     ]
    },
    {
     "cell_type": "code",
     "collapsed": false,
     "input": [
      "for x in [3, 1, 2]:\n",
      "print(x)\n"
     ],
     "language": "python",
     "metadata": {},
     "outputs": [],
     "prompt_number": 12
    },
    {
     "cell_type": "markdown",
     "metadata": {},
     "source": [
      "The specific collection being used here is a list.  You can generate lists like this:\n"
     ]
    },
    {
     "cell_type": "code",
     "collapsed": false,
     "input": [
      "someList = []\n",
      "print(someList)\n",
      "someList.append(1)\n",
      "print(someList)"
     ],
     "language": "python",
     "metadata": {},
     "outputs": [],
     "prompt_number": 12
    },
    {
     "cell_type": "markdown",
     "metadata": {},
     "source": [
      "The append function is something that works specifically on a list.  It modifies the particular list it is called on by adding the specified item onto the end.  That is why you have to call someList.append(element), rather than just append(element) or append(list, element).  Append is known as a method.  Methods belong to objects.  In this case, the object is a list.  Lists have many other methods: [methods](http://docs.python.org/tutorial/datastructures.html) (just read the first section).  Additionally, lists can be made explicitly like this:\n"
     ]
    },
    {
     "cell_type": "code",
     "collapsed": false,
     "input": [
      "someList = [1, 2, 3]\n",
      "print(someList)\n"
     ],
     "language": "python",
     "metadata": {},
     "outputs": []
    },
    {
     "cell_type": "markdown",
     "metadata": {},
     "source": [
      "or like this:\n"
     ]
    },
    {
     "cell_type": "code",
     "collapsed": false,
     "input": [
      "someList = range(3)\n",
      "print(someList)\n"
     ],
     "language": "python",
     "metadata": {},
     "outputs": []
    },
    {
     "cell_type": "markdown",
     "metadata": {},
     "source": [
      "The range function generates a list of numbers from 0 to n - 1, inclusive, where n is the number passed to it.  You can also call range(a, b) to get the list from a to b - 1.  This is very useful for code that is iterating over a large set of numbers.  Here is much better code to generate the first ten positive square numbers:\n"
     ]
    },
    {
     "cell_type": "code",
     "collapsed": false,
     "input": [
      "for x in range(1, 11):\n",
      "\tprint(x * x)\n"
     ],
     "language": "python",
     "metadata": {},
     "outputs": []
    },
    {
     "cell_type": "markdown",
     "metadata": {},
     "source": [
      "Why does that look a little ugly?  Because most times you are counting, you want to start counting from 0:\n"
     ]
    },
    {
     "cell_type": "code",
     "collapsed": false,
     "input": [
      "for x in range(10):\n",
      "\tprint(x * x)\n"
     ],
     "language": "python",
     "metadata": {},
     "outputs": [],
     "prompt_number": 19
    },
    {
     "cell_type": "markdown",
     "metadata": {},
     "source": [
      "##Advanced Control Flow:\n",
      "\n",
      "What if you want to write loops, but have more control than they give you?  Like, sometimes you want to exit the loop early, or sometimes you want to just skip to the next iteration of the loop.  The functions you are looking for are \"break\" and \"continue\":\n"
     ]
    },
    {
     "cell_type": "code",
     "collapsed": false,
     "input": [
      "for x in range(10):\n",
      "\tif x == 5:\n",
      "\t\tbreak\n",
      "\tif x == 1:\n",
      "\t\tcontinue\n",
      "\tprint(x)\n"
     ],
     "language": "python",
     "metadata": {},
     "outputs": [],
     "prompt_number": 22
    },
    {
     "cell_type": "markdown",
     "metadata": {},
     "source": [
      "You may have to run that one a couple of times to truly appreciate all the things it is doing.\n",
      "\n",
      "For advanced \"if\"/\"else\" usage, try compound conditions and the \"elif\" (short for \"else if\"):"
     ]
    },
    {
     "cell_type": "code",
     "collapsed": false,
     "input": [
      "x = 4\n",
      "y = 2\n",
      "if x == 42 or y == 42:\n",
      "\tprint(\"At least one number was 42\")\n",
      "elif x == y:\n",
      "\tprint(\"Both numbers are the same\")\n",
      "else:\n",
      "\tprint(\"Both numbers are different, and neither is 42\")\n"
     ],
     "language": "python",
     "metadata": {},
     "outputs": [],
     "prompt_number": 25
    },
    {
     "cell_type": "markdown",
     "metadata": {},
     "source": [
      "If we have 42 for both numbers, it will not inform you that the numbers are the same, since it only executes that if neither number is 42.  There is also \"and\" and \"not\" for making compound conditions, and you can use parentheses (\"(\" and \")\") to group conditions and have the logic work the way you want.\n",
      "\n",
      "And one more thing you will probably need is the ability to add a little non-determinism to your code:\n"
     ]
    },
    {
     "cell_type": "code",
     "collapsed": false,
     "input": [
      "import random\n",
      "var = random.randint(1, 100)\n",
      "print(var)\n"
     ],
     "language": "python",
     "metadata": {},
     "outputs": [],
     "prompt_number": 14
    },
    {
     "cell_type": "markdown",
     "metadata": {},
     "source": [
      "Run that code a couple times.  It should do something different each time.  It is generating a random number between 1 and 100, inclusive.  What is that \"import random\" line doing?  Well, the code for random numbers lives in a library.  You have to load the library if you want to use the code in it.  Eventually, you\u2019ll be able to write your own libraries, but there are more pressing things first.\n",
      "\n",
      "## Advanced Functionality:\n",
      "\n",
      "Before you can write your own libraries, you need to know how to write your own functions.  What is a function?  Well, you\u2019ve already seen the \u201cprint\u201d function, the \"input\" function, the \"range\" function, and the \"random.randint\" function.  They have a name, they take some number of arguments (possibly zero) in parentheses, and they return some value (possibly None).  You can write your own very easily, and if you want to reuse a piece of code a lot of times (a lot is more than once), that is exactly what you should do.  Here is an example of a function.\n"
     ]
    },
    {
     "cell_type": "code",
     "collapsed": false,
     "input": [
      "def square(x):\n",
      "\treturn x * x\n"
     ],
     "language": "python",
     "metadata": {},
     "outputs": [],
     "prompt_number": 46
    },
    {
     "cell_type": "markdown",
     "metadata": {},
     "source": [
      "Functions are defined by \"def\".  Everything in the function is in an indented block after the \"def\".  The function takes some number of arguments (in this case one).  And it returns some value (in this case the square of the argument).\n",
      "\n",
      "How do you use the function once it is declared?  Like this:\n"
     ]
    },
    {
     "cell_type": "code",
     "collapsed": false,
     "input": [
      "print(square(5))\n"
     ],
     "language": "python",
     "metadata": {},
     "outputs": [],
     "prompt_number": 47
    },
    {
     "cell_type": "markdown",
     "metadata": {},
     "source": [
      "You can verify for yourself that 5 * 5 is 25, or you can just trust the computer.  Using functions is very simple.  The only complicated part is what happens to variables between functions.  Well, it turns out that each function has its own set of variable names.  This is something called scope.  It\u2019s great once you get used to it because it means you don\u2019t have to worry about what variable names you used in your functions when you\u2019re writing your main code.  For example, you can write the following code (which is functionally identical to the previous block):\n"
     ]
    },
    {
     "cell_type": "code",
     "collapsed": false,
     "input": [
      "x = 5\n",
      "x = square(x)\n",
      "print(x)\n"
     ],
     "language": "python",
     "metadata": {},
     "outputs": [],
     "prompt_number": 51
    },
    {
     "cell_type": "markdown",
     "metadata": {},
     "source": [
      "Because of scope, you can use x both inside and outside the function without getting in trouble.  But a word of caution: the code outside the function is actually not in a function at all (fancy python code would create a function for this called \"main\", but you don\u2019t have to care about that... yet).  What this means is you need to declare all your functions at the top of your code, or else you will get into trouble.  Well, not the very top.  You want the \"import\" statements at the very top, or else you won\u2019t be able to use things you\u2019ve imported in your functions.  Remember that whole linear code thing?  Right.\n",
      "\n",
      "And just to blow your mind, you can also nest invocations of functions arbitrarily deeply:\n"
     ]
    },
    {
     "cell_type": "code",
     "collapsed": false,
     "input": [
      "def max(x, y):\n",
      "\tif x > y:\n",
      "\t\treturn x\n",
      "\telse:\n",
      "\t\treturn y\n",
      "\n",
      "print(max(square(5), 14))\n"
     ],
     "language": "python",
     "metadata": {},
     "outputs": []
    },
    {
     "cell_type": "markdown",
     "metadata": {},
     "source": [
      "Thus, we have verified once and for all that 5 squared is greater than 14.  As long as we\u2019re on the subject of functions, you can use them to improve the structure of your code.  The example below won\u2019t do much on its own, but with a couple more tools, that will change.  Anyways, here is a function that you\u2019ve been implicitly using all along, along with an example of how to use it:\n"
     ]
    },
    {
     "cell_type": "code",
     "collapsed": false,
     "input": [
      "def getnum():\n",
      "\treturn input(\u201cType a number: \u201d)\n",
      "\n",
      "x = getnum()\n",
      "print(x + 1)\n"
     ],
     "language": "python",
     "metadata": {},
     "outputs": [],
     "prompt_number": 54
    },
    {
     "cell_type": "markdown",
     "metadata": {},
     "source": [
      "All this does is abstract the prompt for input into a function, first, so you don\u2019t have to type that whole thing every time, and second, so you could possibly do some extra processing on that, as will be seen later.\n",
      "\n",
      "##A Few More Comments:\n",
      "\n",
      "Let\u2019s say you want to put lines in your Python programs that don\u2019t do anything.  Why would you want to do this?  Many reasons; to name a few: annotating code, reminding yourself what you were doing, \"turning off\" code that you might want to run later but not now, or making your code prettier with ASCII art (http://www.ascii-art.de/ascii).  In Python, any line that begins with the pound sign (\"#\") will be ignored by the interpreter when it is run.  It\u2019s called a \"comment\".  The following code is just comments, and so will do nothing when run:\n"
     ]
    },
    {
     "cell_type": "code",
     "collapsed": false,
     "input": [
      "# This is a comment, and so it will be ignored by the interpreter\n",
      "# I wanted to be a lumberjack\n",
      "# print(\"Just kidding; this won\u2019t print anything\")\n"
     ],
     "language": "python",
     "metadata": {},
     "outputs": []
    },
    {
     "cell_type": "markdown",
     "metadata": {},
     "source": [
      "You may have noticed that line breaks are pretty important in Python.  Let\u2019s say you want to put more on a line than will fit.  You can do this by using the backslash (\"\\\"), which will tell Python to ignore the line break:\n"
     ]
    },
    {
     "cell_type": "code",
     "collapsed": false,
     "input": [
      "print(\"stuff that \\\n",
      "spills over multiple lines\")\n"
     ],
     "language": "python",
     "metadata": {},
     "outputs": []
    },
    {
     "cell_type": "markdown",
     "metadata": {},
     "source": [
      "In this case, you should not indent lines following the backslash (even if the previous line was indented), since they are inside the quotations and will end up being printed out.  For example:\n"
     ]
    },
    {
     "cell_type": "code",
     "collapsed": false,
     "input": [
      "if 1 == 1:\n",
      "\tprint(\"Of course 1 is \\\n",
      "equal to one\")\n"
     ],
     "language": "python",
     "metadata": {},
     "outputs": []
    },
    {
     "cell_type": "markdown",
     "metadata": {},
     "source": [
      "Of course, this can make your code very hard to read, so if you are writing very long lines, stop.  Find ways to break them up.  This shouldn\u2019t be an issue yet, and by the time it is, you should have techniques to deal with it.  Here\u2019s a trick for strings (a string is anything in \"quotation marks\", called that because it is a string of characters).  You can build strings using the \"+\" operator.  With strings, it acts as a concatenator.\n"
     ]
    },
    {
     "cell_type": "code",
     "collapsed": false,
     "input": [
      "string = \"\"\n",
      "string += \"This is a sting \"\n",
      "string += \"made up \"\n",
      "string += \"of many \"\n",
      "string += \"pieces.\"\n",
      "print(string)\n"
     ],
     "language": "python",
     "metadata": {},
     "outputs": []
    },
    {
     "cell_type": "markdown",
     "metadata": {},
     "source": [
      "If you want to drop a number variable into a string, you will have to convert it to a string using the \"str(number)\" function, or else Python may complain:\n"
     ]
    },
    {
     "cell_type": "code",
     "collapsed": false,
     "input": [
      "x = 5\n",
      "String = \"This is the number five: \" + str(x)\n",
      "print(String)\n"
     ],
     "language": "python",
     "metadata": {},
     "outputs": []
    },
    {
     "cell_type": "markdown",
     "metadata": {},
     "source": [
      "Of course, if you know what the number is ahead of time, you can always do this:\n"
     ]
    },
    {
     "cell_type": "code",
     "collapsed": false,
     "input": [
      "print(\"This is the number five: 5\")\n"
     ],
     "language": "python",
     "metadata": {},
     "outputs": []
    },
    {
     "cell_type": "markdown",
     "metadata": {},
     "source": [
      "The point of the \u201cstr(number)\u201d function is if you don\u2019t know what the number is (because it\u2019s a variable that you didn\u2019t just set to a constant).  There are lots of these functions for converting between data types.  One other you may want turns a string into an integer: the \u201cint(string)\u201d function.\n",
      "\n",
      "##Problem Set 1:\n",
      "\n",
      "It is now time for problem set 1 (yes its a problem set in a problem set).  The problem sets for this course are the CS50 problem sets, but instead of C, you will be using Python.  This way, instead of this course taking over four months of your life, it might take four hours.  Of course, if you are a real programmer, the day begins at 1:00 AM.  But I digress.  Let me now mention the best part about programming problem sets: you know when you are done, because it works.  There will be no one to grade you, save yourself.  So, yes you can cheat, or not do them at all, but you do so at your expense.  Without doing the problem sets, you won\u2019t have the street cred of having done CS50 in four hours.  You also probably won\u2019t know as much about programming, but that\u2019s irrelevant compared to street cred.\n",
      "\n",
      "Problem set 1 has three parts. \n",
      "\n",
      "1. Guess a Number:\n",
      "Make the guess a number game.  In this game, your program picks a number between 1 and 1024, and the user tries to guess what it is, each time your program telling them whether it\u2019s too low or too high, and stopping when they get it right.  Your program should begin with something like the following:\n",
      "\n"
     ]
    },
    {
     "cell_type": "code",
     "collapsed": false,
     "input": [
      "import random\n",
      "\n",
      "number = random.randint(1, 1024)\n",
      "\n",
      "# TODO write the rest of the program\n",
      "\n",
      "\"\"\"\n",
      "Then, it should work something like this, with user input being in bold:\n",
      "\n",
      "I'm thinking of a number between 1 and 1024. What is it?\n",
      "guess_a_number(1)\n",
      "Too low.  Guess again.\n",
      "guess_a_number(2)\n",
      "Too low.  Guess again.\n",
      "guess_a_number(-1)\n",
      "Don't be difficult. Guess again.\n",
      "guess_a_number(1023)\n",
      "Too high. Guess again.\n",
      "guess_a_number(42)\n",
      "That's right!\n",
      "\"\"\"\n",
      "def guess_a_number(num):\n"
     ],
     "language": "python",
     "metadata": {},
     "outputs": []
    },
    {
     "cell_type": "markdown",
     "metadata": {},
     "source": [
      "2. Change You Can Believe In:\n",
      "Write a program to determine the minimum number of coins needed to make an amount of money.  It turns out this is much easier to determine than you think.  First, use quarters until you can\u2019t any more.  Then, use dimes on the remainder until you can\u2019t.  Continue with nickels and then with pennies.  So, for 0.41, you would use one quarter, leaving you with 0.16 still to handle, then use one dime, leaving 0.06, then use one nickel, leaving 0.01, and then use one penny, for a total of 4 coins.  This is known as a greedy algorithm (and not because it is dealing with money), and in the case of this problem, is the optimal approach.  For this, you will be dealing with decimals (which are called \"floating point numbers\" or \"floats\" in the programmer community), rather than integers (which are called \"integers\" in the programmer community).  Of course, you don\u2019t really have to worry about this, since Python takes care of most of it, and I have provided an error checking function to get floating point numbers from the input:\n"
     ]
    },
    {
     "cell_type": "code",
     "collapsed": false,
     "input": [
      "\"\"\"\n",
      "Here are some values to check yourself:\n",
      "$0 -> 0 coins\n",
      "$0.33 -> 5 coins\n",
      "$1.97 -> 11 coins\n",
      "$2.00 -> 8 coins\n",
      "$-1 -> Displays an error\n",
      "\n",
      "\"\"\"\n",
      "def change(money):\n",
      "    "
     ],
     "language": "python",
     "metadata": {},
     "outputs": []
    },
    {
     "cell_type": "markdown",
     "metadata": {},
     "source": [
      "3. A High Bar:\n",
      "Write a program to make bar graphs.  Here, you will probably want to directly use the raw_input(\"Type a label: \") function mentioned in part 2 of this problem set..  Just as a reminder, this function lets you capture string input from the user.  \n",
      "\n",
      "The program should be able to handle any positive number of labels (it should give an error and quit for 0 or less).  The bar lengths for each label should be the value of that label, divided by the total value of all labels, multiplied by 80.  So, in the example above, the total value of the label is 20.  Thus, the label \"Other\", with a value of 3, has a bar length of ((3 / 20) * 80) = 12.  You should cast the value of this computation as an integer (using the \"int(value)\" function), which will round the value down to the nearest integer.  If you want slightly more accurate bar graphs, add 0.5 before casting as an integer (\"int(value + 0.5)\"), and this will round normally.\n",
      "\n",
      "The program should work as follows:\n"
     ]
    },
    {
     "cell_type": "code",
     "collapsed": false,
     "input": [
      "\"\"\"\n",
      "for this input it should generate: \n",
      "\n",
      "Number of labels: 3\n",
      "Type a label: Label 1\n",
      "Value for Label 1: 5\n",
      "Type a label: Label 2\n",
      "Value for Label 2: 12\n",
      "Type a label: Other\n",
      "Value for Other: 3\n",
      "\n",
      "Label 1\n",
      "####################\n",
      "Label 2\n",
      "################################################\n",
      "Other\n",
      "############\n",
      "\n",
      "the inputs to our function should be graphs\n",
      "\n",
      "\"\"\"\n",
      "def high_bar(labels,values)"
     ],
     "language": "python",
     "metadata": {},
     "outputs": []
    },
    {
     "cell_type": "markdown",
     "metadata": {},
     "source": [
      "## Advanced String Handling:\n",
      "\n",
      "Congratulations.  You have finished problem set 1.  It\u2019s now time to delve closer into some of the things you used there.  Most important is string handling.  Problem set 1 had you build strings out of pieces.  But what exactly is a string?  Well, it\u2019s a string of characters, sure, but that\u2019s not very precise.  The technical term in the case of a string is that it is an \"array\" of characters.  What is an array?  It\u2019s like a list, but more rigid in structure.  In an array, all the elements must be the same kind of thing; in the case of a string, they must all be characters.  And what is a character?  It\u2019s a single letter or symbol.  But beneath that, it\u2019s actually just a number in memory: http://www.asciitable.com.  Why is it a number?  Well, computers store things in binary.  In order to use anything, it has to get encoded into and out of binary at some point.  But that\u2019s about all you have to care about binary.  The key part is that characters (and consequently letters) are actually numbers.  Here is how you access characters and their number values:\n"
     ]
    },
    {
     "cell_type": "code",
     "collapsed": false,
     "input": [
      "string = \"This is some string\"\n",
      "print(string[0])\n",
      "print(ord(string[0]))\n"
     ],
     "language": "python",
     "metadata": {},
     "outputs": []
    },
    {
     "cell_type": "markdown",
     "metadata": {},
     "source": [
      "That should have printed \"T\" and \"84\".  Why?  Well, \"T\" is the first character of the string.  The string is just an array of characters, and `string[n]` returns the nth element of that array (this works for lists too).  And here comes something from a while back that I wasn\u2019t actually joking about: computer scientists start counting from zero.  Thus, the first character in the string is actually the zeroth element in the character array that the string represents, and so is accessed by `string[0] (string[1]` will return \"h\" in this case).  The \"ord(character)\" function converts a single character into its ASCII or \"ordinal\" value.  If you look at an ASCII table, you will find that \"T\" has the decimal value 84.  And so, `ord(\"T\")` returns 84.\n",
      "\t\n",
      "In many lower level programing languages, individual characters must be referred to using \u2018single quotes\u2019 rather than \"double quotes\" (so \u2018T\u2019, not \"T\"), but Python is very forgiving, and will actually let you use single and double quotes interchangeably.  Thus, in Python, a character and a single length string are completely equivalent, which is a kindness many other programming languages will not extend you.\n",
      "\t\n",
      "But, enough on why Python is great.  Why do you care that `ord(\"T\")` is 84?  Because, it turns out that `ord(\"U\")` is 85.  And `ord(\"V\")` is 86.  The capital letters take on ASCII values 65 through 90 and the lowercase take on 97 through 122.  But, now that you know that, never look it up again.  Just reference them with `ord(\"A\"), ord(\"Z\"), ord(\"a\")`, and `ord(\"z\")`.  And, once you have the value for a character you want, turn it back into a character with the \"chr(value)\" function.\n"
     ]
    },
    {
     "cell_type": "code",
     "collapsed": false,
     "input": [
      "string = \"This is some string\"\n",
      "print(string[0])\n",
      "print(ord(string[0]))\n",
      "print(chr(ord(string[0]) + 1))\n"
     ],
     "language": "python",
     "metadata": {},
     "outputs": []
    },
    {
     "cell_type": "markdown",
     "metadata": {},
     "source": [
      "That should have printed \"T\", then 84, and then \"U\".  The last line is printing the character with number value one more than the value of the first character in the string.  Given this, it is very easy to decode the childhood codes where each letter is replaced by its number in the alphabet:\n"
     ]
    },
    {
     "cell_type": "code",
     "collapsed": false,
     "input": [
      "letter = input(\"Type an encoded letter: \")\n",
      "print(chr(ord(\"A\") - 1 + letter))\n"
     ],
     "language": "python",
     "metadata": {},
     "outputs": []
    },
    {
     "cell_type": "markdown",
     "metadata": {},
     "source": [
      "The \"- 1\" is necessary because the code begins with A as 1, not 0.  If you don\u2019t understand that part, don\u2019t worry.  It\u2019s not that important anyways.  What will be important is how to check if a character is a letter.  Try this:\n"
     ]
    },
    {
     "cell_type": "code",
     "collapsed": false,
     "input": [
      "char = 'e'\n",
      "while len(char) != 1:\n",
      "char = raw_input(\"Type only one character: \")\n",
      "val = ord(char)\n",
      "if ord(\"A\") <= val <= ord(\"Z\"):\n",
      "\tprint(\"That is an uppercase letter\")\n",
      "elif ord(\"a\") <= val <= ord(\"z\"):\n",
      "\tprint(\"That is a lowercase letter\")\n",
      "else:\n",
      "\tprint(\"That is not a letter\")\n"
     ],
     "language": "python",
     "metadata": {},
     "outputs": []
    },
    {
     "cell_type": "markdown",
     "metadata": {},
     "source": [
      "Now, on the topic of hackey things, there are some characters you may want to use in your code that you don\u2019t know how to type.  Things like a line break or a tab, or perhaps even a quotation mark itself.  You do this by means of an escape character, namely a character that tells the interpreter that the next character has special meaning and should not be interpreted as normal.  In python (and many other languages), this is the backslash.  \"\\n\" denotes a line break and \"\\t\" denotes a tab.  In order to use the backslash itself in a string (it is what is called an escape character), you have to preface it with another backslash: \"\\\\\".  The backslash also lets you put a quotation mark inside a sting, like this: \"\\\"\".  These can be typed as part of a string, as follows:\n"
     ]
    },
    {
     "cell_type": "code",
     "collapsed": false,
     "input": [
      "print(\"This is a line break\\nin the middle of a string\")\n"
     ],
     "language": "python",
     "metadata": {},
     "outputs": []
    },
    {
     "cell_type": "markdown",
     "metadata": {},
     "source": [
      "If you think that looks kind of ugly, you can also concatenate them in just like any other string or character:\n"
     ]
    },
    {
     "cell_type": "code",
     "collapsed": false,
     "input": [
      "string = \"This is a line break\"\n",
      "string += \"\\n\"\n",
      "string += \"in the middle of a string\"\n",
      "print(string)\n"
     ],
     "language": "python",
     "metadata": {},
     "outputs": []
    },
    {
     "cell_type": "markdown",
     "metadata": {},
     "source": [
      "So, how can the backslash both be a way of generating special characters, and a way of telling python to ignore new lines?  Well, when generating special characters, the backslash is always immediately followed by another character.  When acting as an ignore line break, it is the last character in the line with nothing after it.  So, lone backslashes do one thing, and backslashes with a friend do something else.  That\u2019s programming for you.\n",
      "\n",
      "To return to strings being arrays of characters, this means that you can actually iterate over the characters in a string with a simple for loop:\n"
     ]
    },
    {
     "cell_type": "code",
     "collapsed": false,
     "input": [
      "string = \"This is some string\"\n",
      "for char in string:\n",
      "\tprint(char)\n"
     ],
     "language": "python",
     "metadata": {},
     "outputs": []
    },
    {
     "cell_type": "markdown",
     "metadata": {},
     "source": [
      "That should have printed each character in the string on its own line.\n",
      "\n",
      "##Problem Set 2:\n",
      "\t\n",
      "It is now time for problem set 2.  This will not only heavily utilize what was just explained, but also push the limits of some things you learned earlier.  This problem set has three parts.\n",
      "\n",
      "1. 99 Bottles of Beer\n",
      "\tThis is a song used for killing time or annoying fellow passengers on long car trips.  If you are not familiar with it, it goes like this:\n",
      "\n",
      "99 bottles of beer on the wall,\n",
      "99 bottles of beer;\n",
      "Take one down, pass it around,\n",
      "98 bottles of beer on the wall.\n",
      "\n",
      "98 bottles of beer on the wall,\n",
      "98 bottles of beer;\n",
      "Take one down, pass it around,\n",
      "97 bottles of beer on the wall.\n",
      "\n",
      "It continues like this.  Now, why was that in the program output font?  Because you are going to write a program to output this song.  In the age of computers, car trips can be much faster (why, you can scroll across the country on a Google Map in seconds), and so car trip songs need be sung much faster.  Write a Python program to print the words to the entire song, ending with 0 bottles of beer on the wall.  But, of course, it\u2019s a little harder than you think, since 1 bottle of beer requires the singular \"bottle\", not the plural \"bottles\".  Needless to say, you should inspect the output of your program, and make sure it looks the way it ought (this is always good advice).\n"
     ]
    },
    {
     "cell_type": "code",
     "collapsed": false,
     "input": [
      "def bottles_of_beer():"
     ],
     "language": "python",
     "metadata": {},
     "outputs": []
    },
    {
     "cell_type": "markdown",
     "metadata": {},
     "source": [
      "2. Encryption\n",
      "\tAn important use of computers is encrypting data.  Let\u2019s try a simple method of encrypting text.  It\u2019s not at all secure, but it\u2019s still a lot better than A = 1, B = 2...  Pick a key.  Then, for each letter in the text to be encrypted, add to that letter the value in the key (wrapping from Z back to A appropriately), preserving case (whether the letter is capitalized or not).  Non-letters are unaffected.  This is encryption scheme is commonly called \"rot-n\", where n is the key (rot is short for rotation).  To decrypt your text, simply put the encrypted text through the encrypter, except using 26 - k as the key.  Thus, rot-13 is special in that a rot-13 encrypter will also decrypt text it encrypted.  It is also the first thing someone expects you to have used to encrypt your text.  But that aside, your job is to build a rot-k encrypter.  It should work something like this:\n"
     ]
    },
    {
     "cell_type": "code",
     "collapsed": false,
     "input": [
      "\"\"\"\n",
      "On this input it will generate:\n",
      "\n",
      "Input an integer key: 13\n",
      "Input text to encrypt: Decrypt this, fool!\n",
      "Your text encrypted is: Qrpelcg guvf, sbby!\n",
      "\n",
      "\n",
      "\"\"\"\n",
      "def encrypt(key,text):\n",
      "    "
     ],
     "language": "python",
     "metadata": {},
     "outputs": []
    },
    {
     "cell_type": "markdown",
     "metadata": {},
     "source": [
      "Checking your rot-13 is easy.  For other values of n, try [this](http://www.rot-n.com).  Also, if using this for actual encryption (which you should not), do not use rot-26.  It is not twice as secure as rot-13.\n"
     ]
    },
    {
     "cell_type": "markdown",
     "metadata": {},
     "source": [
      "3. Real Encryption\n",
      "\tIf you haven\u2019t realized it yet, 25 possible keys is not fantastically secure.  That is, in fact, few enough that someone could decrypt your messages by running them through all 25 and inspecting the output manually.  So let\u2019s try an algorithm that is not so easy to crack: the Vigenere Cipher.  The algorithm is as follows:\n",
      "    1. Take a keyword and convert it to uppercase (try the \".upper()\" method of a string)\n",
      "    2. For each letter in the keyword, take its value to be the value of that letter minus the value of \"A\"\n",
      "    3. Take k to be the length of the keyword\n",
      "    4. For each n-th letter in the word to be encrypted, rotate it forward by the value of the (n mod k)-th letter of the keyword (so rotate by \"ord(keyword[n % len(keyword)])\"), with rotate meaning the same thing it did in the rotation-cypher\n",
      "\n",
      "Your program should run something like this:\n"
     ]
    },
    {
     "cell_type": "code",
     "collapsed": false,
     "input": [
      "\"\"\"\n",
      "On an input of this it will \n",
      "\n",
      "Input a keyword: keytext\n",
      "Input text to encrypt: Decrypt this, fool!\n",
      "Your text encrypted is: Niakcmm dlgl, jlhv!\n",
      "\n",
      "\n",
      "\"\"\"\n",
      "def real_encrpyt(keyword,text):"
     ],
     "language": "python",
     "metadata": {},
     "outputs": []
    },
    {
     "cell_type": "markdown",
     "metadata": {},
     "source": [
      "You can check your solution against [this](http://sharkysoft.com/misc/vigenere)\n"
     ]
    },
    {
     "cell_type": "markdown",
     "metadata": {},
     "source": [
      "##All Things Iterable:\n",
      "\n",
      "In python, there is one magic word: \u201cin\u201d.  This word does everything you could possibly want.  Okay, not quite everything.  But close.  The most important thing the word \u201cin\u201d does is allow us to write ridiculous for-loops, like the following:\n"
     ]
    },
    {
     "cell_type": "code",
     "collapsed": false,
     "input": [
      "for x in range(10):\n",
      "\tprint(x * x)\n"
     ],
     "language": "python",
     "metadata": {},
     "outputs": []
    },
    {
     "cell_type": "markdown",
     "metadata": {},
     "source": [
      "Or this:\n",
      "```\n",
      "# If you save this as hello_world.py and run it from the directory it is saved in,\n",
      "# it will print its own code\n",
      "f = open(\u201chello_world.py\u201d)\n",
      "for line in f:\n",
      "\tprint(line)\n",
      "```\n",
      "Here is where you go, \u201cWoah, hold on a second.\u201d  Well, first, let me tell you what the \u201copen(filename)\u201d function does (in case I didn\u2019t just give it away).  It opens a file.  On your computer.  And then, a file, just like a list, or a string (which is basically just a list), is iterable.  The unit of iteration happens to be the line.  And those lines, if you\u2019re dealing with text files, are strings.  And if you\u2019re writing code, you\u2019re probably dealing with text files.  Like giant spreadsheets of numbers.  Numbers that represent money or data.  Isn\u2019t code great.  But the other reason you should go, \u201cWoah, hold on a second,\u201d is because right there, in the code above this paragraph, I broke the barrier between python being some cool toy and python being a massively lucrative tool.\n",
      "\n",
      "Before I show you all these amazing things you can do with files, let me mention one other use of the word \u201cin\u201d.  It can check if something is in an array.  So...\n",
      "\n",
      "```\n",
      "if 1 in [1, 2, 3]:\n",
      "print(\u201cYay\u201d)\n",
      "else:\n",
      "\tprint(\u201cOh no!\u201d)\n",
      "if 4 not in [1, 2, 3]:\n",
      "\tprint(\u201cYay again\u201d)\n",
      "else:\n",
      "\tprint(\u201cOh no! (again)\u201d)\n",
      "```\n",
      "\n",
      "Now, back to files.  When you open a file, you pass to \u201copen\u201d the name of the file.  If the file does not exist, this will be a problem... unless you do this:\n",
      "\n",
      "```\n",
      "f = open(\u201csomerandomfilename.txt\u201d, \u201cw\u201d)\n",
      "```\n",
      "\n",
      "Ah, beautiful voodoo.  The \u201cw\u201d means open the file for writing instead of reading.  Better yet, you can pass a \u201cw+\u201d to say open for both reading and writing (but, surprisingly, usually you only want to do one).  In this case, if the file does not exist, it will be created.  Though beware; if the file does exist, its contents will be overwritten.  But now you can write to it as follows:\n",
      "\n",
      "```\n",
      "f.write(\u201cSome stuff to be written to the file\\n\u201d)\n",
      "```\n",
      "\n",
      "Now, if you go and open this file, it will have text in it.  Stunning.  A critical difference between writing to a file and using \u201cprint\u201d is that print appends new-lines to the end of every print.  Your file writing will not be so assuming, and you have to explicitly write new-lines (as I did above) to have it do this.  This is nice, in a way, because it means you can write to files in partial lines.  In the event that your file is empty after you have written to it, there is some other magic going on here you may want to know about.  Writing to files is expensive, so python is lazy about it.  Python will do a thing called \u201cbuffering\u201d, where it stores pending writes to a file in memory, and then sends them all out to the file in a batch.  This helps it run faster, but sometimes is a pain.  If you need stuff written NOW, use \u201cf.flush()\u201d to force python to write its buffered writes to the file.  Reading from a file doesn\u2019t do anything like this, so don\u2019t worry.  Also, python flushes all writes when your program finishes, so don\u2019t worry too much here either.\n",
      "\n",
      "Now, what do we do with this?  Well, the first thing to do understand is we can have two files open.\n",
      "\n",
      "```\n",
      "infile = open(\u201cinput.txt\u201d)\n",
      "outfile = open(\u201coutput.txt\u201d, \u201cw\u201d)\n",
      "for line in infile:\n",
      "\toutfile.write(line)\n",
      "```\n",
      "\n",
      "This assumes input.txt exists in the same directory as the code file, but if it does, this program will do a fantastic job of copying it into outfile.txt.  This may seem a little mundane, until you realize that any manipulation your little heart desires can intervene between the read and write steps, meaning this is a prototype of industry-grade python code.\n"
     ]
    },
    {
     "cell_type": "markdown",
     "metadata": {},
     "source": [
      "##String Parsing: \n",
      "\n",
      "Let\u2019s tackle a widely used data format, the csv (comma separated values).  Most spreadsheet programs give you the option to save your data in this form.  In this format, you have a bunch of numbers (or something) per line, and they are separated by comma.  Each row is a data element, and each column number has some pre-set meaning.  If you don\u2019t have any csv files handy, this will make one for you:\n"
     ]
    },
    {
     "cell_type": "code",
     "collapsed": false,
     "input": [
      "import random\n",
      "f = open(\u201cdata.csv\u201d, \u201cw\u201d)\n",
      "for i in range(500):\n",
      "\tfor j in range(10):\n",
      "\t\tf.write(str(random.randint(1,40)) + \u201c,\u201d)\n",
      "\tf.write(\u201c\\n\u201d)\n"
     ],
     "language": "python",
     "metadata": {},
     "outputs": []
    },
    {
     "cell_type": "markdown",
     "metadata": {},
     "source": [
      "Let\u2019s now parse a csv file (possibly the one generated above) by adding up the numbers in the second column.  The magic function we will use here is the \u201csplit\u201d method of a string.  This takes as its argument a character, and splits a string into an list of smaller strings based on the occurrence of that character.  As an example, \u201cthis is some string\u201d.split(\u201c \u201c) will give the list [\u201cthis\u201d, \u201cis\u201d, \u201csome\u201d, \u201cstring\u201d] because it was split on the space character.  Here is parsing a csv:\n"
     ]
    },
    {
     "cell_type": "code",
     "collapsed": false,
     "input": [
      "f = open(\u201cdata.csv\u201d)\n",
      "sum = 0\n",
      "for line in f:\n",
      "\telements = line.split(\u201c,\u201d)\n",
      "\tsum = elements[1]\n",
      "print(sum)\n"
     ],
     "language": "python",
     "metadata": {},
     "outputs": []
    },
    {
     "cell_type": "markdown",
     "metadata": {},
     "source": [
      "Remember, again, arrays are indexed from 0, so `elements[1]` gives you the second element; in this case this is the value of the second column.  Anything that \u201csplit\u201d won\u2019t do for you, \u201creplace\u201d probably will.  \u201creplace\u201d replaces all occurrences of one substring in a string with another string, so `pylon\u201d.replace(\u201cl\u201d, \u201cth\u201d)` replaces all instances of \u201cl\u201d in \u201cpylon\u201d with \u201cth\u201d, resulting in \u201cpython\u201d.  Anything more fancy that replace and split will probably require you to use [regular expressions](http://docs.python.org/library/re.html), but these are very high level and I recommend avoiding them if you can (I avoid them for the most part).\n"
     ]
    },
    {
     "cell_type": "markdown",
     "metadata": {},
     "source": [
      "##All About Lists:\n",
      "\t\n",
      "Lists are great right (especially since strings can be treated as lists)?  Well, what kind of crazy things can you do to a list?\n"
     ]
    },
    {
     "cell_type": "code",
     "collapsed": false,
     "input": [
      "list = [1, 2, 3, 4, 5]\n",
      "print(list[0])\t  # returns the 0th (first) element of the list\n",
      "print(list[-1])\t  # returns the last element of the list; -2 will be second to last, and so on\n",
      "print(list[0:2]) # returns the sublist going from indices 0 to 1 (index 2 is not included)\n",
      "print(list[:2])\t  # identical to above\n",
      "print(list[:-1])  # returns a sublist with the last element of the original removed\n",
      "\n",
      "del l[3]\t  # deletes the item in index 3 of the list\n",
      "print(list)\n"
     ],
     "language": "python",
     "metadata": {},
     "outputs": []
    },
    {
     "cell_type": "markdown",
     "metadata": {},
     "source": [
      "Now it is time to mention a very important thing about data structures. In python, numbers and strings are presumed small enough that they can be copied easily.  But things like lists (in this case, strings are not lists) are big (or at least they can be), and so they are not copied if it can be avoided.  Allow me to illustrate:\n"
     ]
    },
    {
     "cell_type": "code",
     "collapsed": false,
     "input": [
      "x = 5\n",
      "y = x\n",
      "y += 2\n",
      "print(x)\n",
      "print(y)\n"
     ],
     "language": "python",
     "metadata": {},
     "outputs": []
    },
    {
     "cell_type": "markdown",
     "metadata": {},
     "source": [
      "Perhaps unsurprisingly, y is 7 while x is 5.  But what about this:\n"
     ]
    },
    {
     "cell_type": "code",
     "collapsed": false,
     "input": [
      "L1 = [1, 2, 3]\n",
      "L2 = L1\n",
      "L2[0] = 4\t# This replaces the 0th element of L2 with 4\n",
      "print(L1)\n",
      "print(L2)\n"
     ],
     "language": "python",
     "metadata": {},
     "outputs": []
    },
    {
     "cell_type": "markdown",
     "metadata": {},
     "source": [
      "Here, it should be no surprise that L2 is [4, 2, 3], but it should be a surprise that L1 is too.  The concept at play here is that of passing by reference versus value.  Strings and numbers are passed by value.  When you make a copy, it actually gets copied, and you are dealing then with two separate strings or numbers.  But with lists (and other big objects that we will run into later), when you make a copy, it is just a copy of a reference to the same object.  Whatever happens to one will happen to the other.  If we want a new copy of the list, we have to explicitly make it by any of the following (the first is elegant; the other two are straight hacks):\n"
     ]
    },
    {
     "cell_type": "code",
     "collapsed": false,
     "input": [
      "L1 = [1, 2, 3]\n",
      "L2 = lst(L1)\n",
      "L3 = L1[:]\n",
      "L4 = [x for x in L1]\t\t# Yes, you can do this; revel in the hack\n"
     ],
     "language": "python",
     "metadata": {},
     "outputs": []
    },
    {
     "cell_type": "markdown",
     "metadata": {},
     "source": [
      "What passing by reference means for you (other than needing to know about it) is you can make functions to manipulate lists (and other more complicated objects that we will get to later) that just operate on the list (no need to return anything).  For example:\n"
     ]
    },
    {
     "cell_type": "code",
     "collapsed": false,
     "input": [
      "def add_one(list):\n",
      "\tfor i in range(len(list)):\n",
      "\t\tlist[i] += 1\n",
      "\n",
      "print(add_one([1, 2, 3]))\n"
     ],
     "language": "python",
     "metadata": {},
     "outputs": []
    },
    {
     "cell_type": "markdown",
     "metadata": {},
     "source": [
      "Here, \u201crange(len(list))\u201d allows us to iterate over the list\u2019s indices.\n",
      "\n",
      "\n",
      "What About Those Other Objects?\n",
      "\n",
      "There is really only one you need to know, the dictionary.  There is one other you already know, and that\u2019s a file.  I will explain how both of these work.  If you want to make your own objects, you can [objects](http://docs.python.org/tutorial/classes.html), but beware; this is advanced stuff and not very helpful, until you find yourself in a posiltion like I was in, where you have a dictionary of lists of dictionaries, that have lists as elements.  Oh, by the way, you can do that, with that being sticking lists and dictionaries inside each other.  Its pretty awesome.  Like, try this: list = [[1, 3, 5], [2, 4, 6]].  And how about this:\n"
     ]
    },
    {
     "cell_type": "code",
     "collapsed": false,
     "input": [
      "list = [0]\n",
      "list[0] = list\n",
      "print(list)\n",
      "print(list[0])\n"
     ],
     "language": "python",
     "metadata": {},
     "outputs": []
    },
    {
     "cell_type": "markdown",
     "metadata": {},
     "source": [
      "Play with that for a while and you will understand why lists are passed by reference.  If they weren\u2019t, very stupid things would have happened just then.  That particular list contains itself, and consequently is infinitely deep.  Its pretty awesome.\n",
      "\t\n",
      "Now, what is a dictionary?  Well, it\u2019s like a list, but instead of having its elements in some particular order, they are stored according to some particular key.  The key can be a number of a string, but strings are more common (probably because you can store stuff in lists by number index already).  How does a dictionary work?  Like this:\n"
     ]
    },
    {
     "cell_type": "code",
     "collapsed": false,
     "input": [
      "d = {}\n",
      "d[\u201ckey\u201d] = \u201cValue\u201d\n",
      "print(d[\u201ckey\u201d])"
     ],
     "language": "python",
     "metadata": {},
     "outputs": []
    },
    {
     "cell_type": "markdown",
     "metadata": {},
     "source": [
      "You can also create a dictionary with explicit key-value pairs like so:\n"
     ]
    },
    {
     "cell_type": "code",
     "collapsed": false,
     "input": [
      "d = {\u201ckey\u201d: \u201cvalue\u201d, \u201cotherkey\u201d: [1, 2, 3]}\n"
     ],
     "language": "python",
     "metadata": {},
     "outputs": []
    },
    {
     "cell_type": "markdown",
     "metadata": {},
     "source": [
      "I hope you noticed I snuck a list in there.  You can put whatever you want in dictionaries.  Including elephants.  You can also do stupid things, like this:\n"
     ]
    },
    {
     "cell_type": "code",
     "collapsed": false,
     "input": [
      "d = {}\n",
      "list = [d]\n",
      "d[0] = list\n",
      "print(d)\n",
      "print(list)\n"
     ],
     "language": "python",
     "metadata": {},
     "outputs": []
    },
    {
     "cell_type": "markdown",
     "metadata": {},
     "source": [
      "Okay, enough stupidity.  Dictionaries are great because they are a very convenient implementation of [hash-tables](http://en.wikipedia.org/wiki/Hash_table).  Basically, decades of research have gone into making python dictionaries work really fast.  Use them excessively.  If you need to copy one (since dictionaries, like lists, are passed by reference), use the \u201cdict(object)\u201d function.\n",
      "\n",
      "Let me briefly mention something that is going on with the file object as well.  The file object keeps track, not just of the file itself, but where you are in it.  When you open a file in the default reading mode, or open a file for writing (with \u201copen(filename)\u201d, which is equivalent to \u201copen(filename, \u2018r\u2019)\u201d, or with \u201copen(filename, \u2018w\u2019)\u201d), this starts the file index at the beginning.  To start it at the end, open the file in append mode, via \u201copen(filename, \u2018a\u2019)\u201d.  The one reason I mention that the file object tracks your location is because after you have iterated through a file, using something like \u201cfor line in file\u201d, you have to open the file again if you want to iterate over it again.  Example:\n"
     ]
    },
    {
     "cell_type": "code",
     "collapsed": false,
     "input": [
      "file = open(\u201cdata.csv\u201d, \u201cr\u201d)\n",
      "for line in file:\n",
      "\tprint(line)\t# This prints each line of the file\n",
      "for line in file:\n",
      "\tprint(line)\t# This won\u2019t do anything as we are now at the end of the file\n",
      "file = open(\u201cdata.csv\u201d, \u201cr\u201d)\t# This gets back to the beginning of the file\n",
      "for line in file:\n",
      "\tprint(line)\t# This prints each line of the file again\n"
     ],
     "language": "python",
     "metadata": {},
     "outputs": []
    },
    {
     "cell_type": "markdown",
     "metadata": {},
     "source": [
      "And here is more than you ever wanted to know about python\u2019s [file objects](http://docs.python.org/release/2.5.2/lib/bltin-file-objects.html)\n"
     ]
    },
    {
     "cell_type": "markdown",
     "metadata": {},
     "source": [
      "##Do or do not, there is no Try (but there really is a try)\n",
      "\n",
      "Next, we have \u201ctry\u201d and \u201cexcept\u201d. Remember the stuff back in the begining of the pset. If you notice, when you try to do something in python like int(\u201cstring\u201d), python doesn\u2019t like it so much.  You are really supposed to do things like int(\u201c16\u201d).  But int(\u201cstring\u201d) does something interesting in its own right.  It causes your program to crash and say \u201cValueError\u201d.  This is called an exception.  It is an exception to normal program behavior.  If unhandled, it causes your program to die.  But it turns out, if you anticipate exceptions (sometimes you can do this without knowing the future), you can handle them safely.  \u201ctry\u201d says you expect an exception might show up in the indented \u201ctry\u201d block.  Then, \u201cexcept ValueError\u201d means, if a \u201cValueError\u201d showed up in the try block, do what is in the indented \u201cexcept\u201d block instead of crashing the program.  To see a little more precisely how this works, check this out:\n"
     ]
    },
    {
     "cell_type": "code",
     "collapsed": false,
     "input": [
      "try:\n",
      "\tint(\u201cstring\u201d)\n",
      "\tprint(\u201cThis won\u2019t get printed\u201d)\n",
      "except ValueError:\n",
      "\tprint(\u201cThis will get printed\u201d)\n",
      "print(\u201cThis happens next\u201d)\n"
     ],
     "language": "python",
     "metadata": {},
     "outputs": []
    },
    {
     "cell_type": "markdown",
     "metadata": {},
     "source": [
      "The key here is that the exception does interrupt the normal flow of code in the \u201ctry\u201d block.  Upon hitting an exception, it goes right to the \u201cexcept\u201d block, and then proceeds linearly from there.  Now, given this, why don\u2019t you just want to fill your code with \u201ctry\u201d and \u201cexcept\u201d blocks?  Well, your code will get messy and unreadable.  Why don\u2019t you want to then surround your code with giant try-except blocks?  Because your code crashing is often a useful debugging tool.  Your code crashing means something you didn\u2019t expect happened.  A lot of the time (like, almost all of it), this is because of code you wrote and need to fix.  If you are blindly catching exceptions, it will make it much harder for you to find your own bugs.\n"
     ]
    },
    {
     "cell_type": "markdown",
     "metadata": {},
     "source": [
      "## Wait that was CS50?\n",
      "\n",
      "Well no. We said that this was not CS50 at the begining of the problem set, however this is more than enough to get you rolling with ARC. While the rest of the CS50 psets are useful (to some extent), what you will learn in the subsequent psets will push your programing limits even further. \n",
      "\n",
      "This is a start, and we have covered a lot of ground, but we are not done yet. Keep coming back, and ARC will have more. Hope you enjoyed and learned, and learned and learned. "
     ]
    },
    {
     "cell_type": "markdown",
     "metadata": {},
     "source": [
      "---\n",
      "*css tweaks in this cell*\n",
      "<style>\n",
      "div.text_cell_render {\n",
      "    line-height: 150%;\n",
      "    font-size: 110%;\n",
      "    width: 800px;\n",
      "    margin-left:50px;\n",
      "    margin-right:auto;\n",
      "    }\n",
      "</style>"
     ]
    },
    {
     "cell_type": "markdown",
     "metadata": {},
     "source": [
      "if interested about the creation of the pset, don't hesitate to reach out [nate tucker](http://www.people.fas.harvard.edu/~kntucker/)"
     ]
    },
    {
     "cell_type": "code",
     "collapsed": false,
     "input": [],
     "language": "python",
     "metadata": {},
     "outputs": []
    }
   ],
   "metadata": {}
  }
 ]
}